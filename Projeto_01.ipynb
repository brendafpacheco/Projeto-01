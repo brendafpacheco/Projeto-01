{
  "nbformat": 4,
  "nbformat_minor": 0,
  "metadata": {
    "colab": {
      "provenance": [],
      "authorship_tag": "ABX9TyOi+YhXIgPgpQ8BGuXF8plJ",
      "include_colab_link": true
    },
    "kernelspec": {
      "name": "python3",
      "display_name": "Python 3"
    },
    "language_info": {
      "name": "python"
    }
  },
  "cells": [
    {
      "cell_type": "markdown",
      "metadata": {
        "id": "view-in-github",
        "colab_type": "text"
      },
      "source": [
        "<a href=\"https://colab.research.google.com/github/brendafpacheco/Projeto-01/blob/master/Projeto_01.ipynb\" target=\"_parent\"><img src=\"https://colab.research.google.com/assets/colab-badge.svg\" alt=\"Open In Colab\"/></a>"
      ]
    },
    {
      "cell_type": "code",
      "execution_count": null,
      "metadata": {
        "id": "XAiqrUReQ4M0"
      },
      "outputs": [],
      "source": [
        "# abrir a conexão com o banco de dados\n",
        "import sqlite3\n",
        "import pandas as pd\n",
        "conn = sqlite3.connect(\"database.db\")"
      ]
    },
    {
      "cell_type": "code",
      "source": [
        "# consulta dos dados do banco de dados\n",
        "consulta_atividade = \"SELECT * FROM flight_loyalty_history flh INNER JOIN flight_activity fa ON (flh.loyalty_number = fa.loyalty_number)\"\n",
        "df_atividade = pd.read_sql_query( consulta_atividade, conn )"
      ],
      "metadata": {
        "id": "miRWNrD2Q6SJ"
      },
      "execution_count": null,
      "outputs": []
    },
    {
      "cell_type": "code",
      "source": [
        "# Número de dados faltantes em cada coluna\n",
        "df_atividade.isna().sum() #coloca false nas colunas que têm dados e true nas colunas que são nulas\n",
        "\n",
        "# Selecionar somente as colunas que contém números\n",
        "colunas = [\"year\", \"month\",\"flights_booked\", \"flights_with_companions\", \"total_flights\", \"distance\", \"points_accumulated\", \"salary\", \"clv\", \"loyalty_card\"]\n",
        "df_colunas_numericas = df_atividade.loc[:, colunas]\n",
        "\n",
        "# Remover as linhas que contém dados faltantes\n",
        "df_dados_completos = df_colunas_numericas.dropna()\n",
        "\n",
        "# Verificar se existe dados faltantes\n",
        "df_dados_completos.isna().sum()\n"
      ],
      "metadata": {
        "colab": {
          "base_uri": "https://localhost:8080/"
        },
        "id": "2OqCydjxRtu9",
        "outputId": "d5f3f719-f0b0-46fa-de31-36a2d65e38ac"
      },
      "execution_count": 10,
      "outputs": [
        {
          "output_type": "execute_result",
          "data": {
            "text/plain": [
              "year                       0\n",
              "month                      0\n",
              "flights_booked             0\n",
              "flights_with_companions    0\n",
              "total_flights              0\n",
              "distance                   0\n",
              "points_accumulated         0\n",
              "salary                     0\n",
              "clv                        0\n",
              "loyalty_card               0\n",
              "dtype: int64"
            ]
          },
          "metadata": {},
          "execution_count": 10
        }
      ]
    },
    {
      "cell_type": "code",
      "source": [
        "#Machine Learning\n",
        "\n",
        "from sklearn import tree as tr\n",
        "\n",
        "x_atributos = df_dados_completos.drop( columns=\"loyalty_card\" )\n",
        "y_rotulos = df_dados_completos.loc[:, \"loyalty_card\"]\n",
        "\n",
        "#definicao do algoritmo\n",
        "modelo = tr.DecisionTreeClassifier(max_depth=2)\n",
        "\n",
        "#treinamento do algoritmo\n",
        "modelo_treinado = modelo.fit( x_atributos, y_rotulos )"
      ],
      "metadata": {
        "id": "LxiAVjv-Q81p"
      },
      "execution_count": 11,
      "outputs": []
    },
    {
      "cell_type": "code",
      "source": [
        "!pip install gradio\n",
        "import gradio as gr\n",
        "import numpy as np"
      ],
      "metadata": {
        "id": "PFcB9pDzRTtm"
      },
      "execution_count": 12,
      "outputs": []
    },
    {
      "cell_type": "code",
      "source": [
        "def predict(*args):\n",
        "  x_novo = np.array( [args] ).reshape( 1, -1 )\n",
        "  labels = modelo_treinado.predict_proba( x_novo )\n",
        "  return {\"Aurora\": labels[0][0], \"Nova\": labels[0][1], \"Star\": labels[0][2]}\n",
        "\n",
        "with gr.Blocks() as demo:\n",
        "  gr.Markdown(\"\"\" # Propensão de compra \"\"\")\n",
        "\n",
        "  with gr.Row():\n",
        "\n",
        "    with gr.Column():\n",
        "      gr.Markdown(\"\"\" # Atributos do cliente \"\"\")\n",
        "      year = gr.Slider( label=\"year\", minimum=2017, maximum=2018, step=1, randomize=True)\n",
        "      month = gr.Slider( label=\"month\", minimum=1, maximum=12, step=1, randomize=True)\n",
        "      flights_booked = gr.Slider( label=\"flights_booked\", minimum=0, maximum=21, step=1, randomize=True)\n",
        "      flights_with_companions = gr.Slider( label=\"flights_with_companions\", minimum=0, maximum=11, step=1, randomize=True)\n",
        "      total_flights = gr.Slider( label=\"total_flights\", minimum=0, maximum=32, step=1, randomize=True)\n",
        "      distance = gr.Slider( label=\"distance\", minimum=0, maximum=6293, step=1, randomize=True)\n",
        "      points_accumulated = gr.Slider( label=\"points_accumulated\", minimum=0.00, maximum=676.5, step=1, randomize=True)\n",
        "      salary = gr.Slider( label=\"salary\", minimum=58486.00, maximum=407228.0, step=1, randomize=True)\n",
        "      clv = gr.Slider( label=\"clv\", minimum=2017, maximum=83325.38, step=1, randomize=True)\n",
        "\n",
        "      with gr.Row():\n",
        "          with gr.Row():\n",
        "            gr.Markdown(\"\"\" # Botão de previsão \"\"\")\n",
        "            predict_btn = gr.Button( value=\"Previsão\" )\n",
        "\n",
        "    with gr.Column():\n",
        "      gr.Markdown(\"\"\" # Propensão de compra do cliente \"\"\")\n",
        "      label = gr.Label()\n",
        "\n",
        "  # Botão predict\n",
        "  predict_btn.click(\n",
        "      fn=predict,\n",
        "      inputs=[\n",
        "        year,\n",
        "        month,\n",
        "        flights_booked,\n",
        "        flights_with_companions,\n",
        "        total_flights,\n",
        "        distance,\n",
        "        points_accumulated,\n",
        "        salary,\n",
        "        clv\n",
        "      ],\n",
        "      outputs=[label])\n",
        "\n",
        "demo.launch(share=True, debug=True)"
      ],
      "metadata": {
        "colab": {
          "base_uri": "https://localhost:8080/",
          "height": 854
        },
        "id": "cm0IY9mYRWRH",
        "outputId": "22c89c68-4030-4cd9-c9a1-046d3954a745"
      },
      "execution_count": null,
      "outputs": [
        {
          "output_type": "stream",
          "name": "stdout",
          "text": [
            "Colab notebook detected. This cell will run indefinitely so that you can see errors and logs. To turn off, set debug=False in launch().\n",
            "Running on public URL: https://5331cd5d4170ad4a34.gradio.live\n",
            "\n",
            "This share link expires in 72 hours. For free permanent hosting and GPU upgrades, run `gradio deploy` from Terminal to deploy to Spaces (https://huggingface.co/spaces)\n"
          ]
        },
        {
          "output_type": "display_data",
          "data": {
            "text/plain": [
              "<IPython.core.display.HTML object>"
            ],
            "text/html": [
              "<div><iframe src=\"https://5331cd5d4170ad4a34.gradio.live\" width=\"100%\" height=\"500\" allow=\"autoplay; camera; microphone; clipboard-read; clipboard-write;\" frameborder=\"0\" allowfullscreen></iframe></div>"
            ]
          },
          "metadata": {}
        },
        {
          "output_type": "stream",
          "name": "stderr",
          "text": [
            "/usr/local/lib/python3.10/dist-packages/sklearn/base.py:439: UserWarning: X does not have valid feature names, but DecisionTreeClassifier was fitted with feature names\n",
            "  warnings.warn(\n",
            "/usr/local/lib/python3.10/dist-packages/sklearn/base.py:439: UserWarning: X does not have valid feature names, but DecisionTreeClassifier was fitted with feature names\n",
            "  warnings.warn(\n",
            "/usr/local/lib/python3.10/dist-packages/sklearn/base.py:439: UserWarning: X does not have valid feature names, but DecisionTreeClassifier was fitted with feature names\n",
            "  warnings.warn(\n",
            "/usr/local/lib/python3.10/dist-packages/sklearn/base.py:439: UserWarning: X does not have valid feature names, but DecisionTreeClassifier was fitted with feature names\n",
            "  warnings.warn(\n",
            "/usr/local/lib/python3.10/dist-packages/sklearn/base.py:439: UserWarning: X does not have valid feature names, but DecisionTreeClassifier was fitted with feature names\n",
            "  warnings.warn(\n",
            "/usr/local/lib/python3.10/dist-packages/sklearn/base.py:439: UserWarning: X does not have valid feature names, but DecisionTreeClassifier was fitted with feature names\n",
            "  warnings.warn(\n",
            "/usr/local/lib/python3.10/dist-packages/sklearn/base.py:439: UserWarning: X does not have valid feature names, but DecisionTreeClassifier was fitted with feature names\n",
            "  warnings.warn(\n"
          ]
        }
      ]
    }
  ]
}